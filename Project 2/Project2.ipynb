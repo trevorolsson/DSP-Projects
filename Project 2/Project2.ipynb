{
 "cells": [
  {
   "attachments": {},
   "cell_type": "markdown",
   "metadata": {},
   "source": [
    "# Project 2: Difference Equations and Impulse Responses\n",
    "This project examines linear-time invariant systems and their representations with diffeence equations, impulse responses and frequency responses."
   ]
  },
  {
   "attachments": {},
   "cell_type": "markdown",
   "metadata": {},
   "source": [
    "## Objective:\n",
    "1. We have the difference equation $$ y[n]-1.1y[n-1]+0.46y[n-2]=x[n]+0.04x[n-1]+0.76x[n-2]$$ which can be implemented using the <code>filter</code> command. Find the vectors <code>a</code> and <code>b</code> that satisfy this equation.\n",
    "\n",
    "\n",
    "2. Create an impulse of length 40.\n",
    "    1. Characterize the LTI system by finding the first 40 points of the impulse response.\n",
    "    2. Plot the impulse response with <code>stem</code>.\n",
    "\n",
    "\n",
    "3. Examine two ways of implementing an LTI system:\n",
    "    1. Create a signal consisting of a 5--point unit height pulse followed by five zeros followed by another 5--point unit height pulse and then zeropadded to a total length of 40.\n",
    "    2. Find the response of the system to an input signal using <code>conv</code> and <code>filter</code>.\n",
    "    3. Are there differences? Why?\n",
    "\n",
    "\n",
    "4. Examine the frequency response:\n",
    "    1. Find an expression for the frequency response of the system described by the difference equation.\n",
    "    2. Plot the magnitude and phase response of the system.\n",
    "    3. What type of filter does this resemble?\n",
    "\n",
    "\n",
    "5. Examine the response to two sine waves:\n",
    "    1. Create two signals $x_{1}[n]=\\cos(0.1\\pi n)$ and $x_{2}[n]=\\sin(0.4\\pi n)$ both of length 100.\n",
    "    2. Filter each signal with the filter in step 1.\n",
    "    3. Examine the frequency response of the system.\n",
    "    4. Add the two signals and filter the sum of the two. Which does the result resemble more, $x_{1}[n]$ or $x_{2}[n]$?"
   ]
  }
 ],
 "metadata": {
  "kernelspec": {
   "display_name": "Julia 1.7.3",
   "language": "julia",
   "name": "julia-1.7"
  },
  "language_info": {
   "file_extension": ".jl",
   "mimetype": "application/julia",
   "name": "julia",
   "version": "1.7.3"
  },
  "orig_nbformat": 4
 },
 "nbformat": 4,
 "nbformat_minor": 2
}
