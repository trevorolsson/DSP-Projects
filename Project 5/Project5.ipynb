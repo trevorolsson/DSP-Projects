{
 "cells": [
  {
   "attachments": {},
   "cell_type": "markdown",
   "metadata": {},
   "source": [
    "# Project 5: Infinite Impulse Response Filter Design\n",
    "There are four classical IIR filters: (1) Butterworth (2) Chebyshev I (3) Chebyshev II (4) Elliptic. They represent four different combinations of two error approximation measures. The first measure uses the Taylor series while the other minimizes the difference between the desired and actual response over a band of frequencies. \n",
    "\n",
    "We will explore and compare various methods for designing IIR filters in this Project"
   ]
  },
  {
   "attachments": {},
   "cell_type": "markdown",
   "metadata": {},
   "source": [
    "## Objective\n",
    "\n",
    "1. Design a 6<sup>th</sup>-order low-pass Butterworth filter with a passband cutoff of $0.3\\pi$.\n",
    "    1. Plot the magnitude and phase responses.\n",
    "    2. Plot the pole-zero representation.\n",
    "    3. Plot the significant part of the impulse response to give around 30 output values.\n",
    "    4. How does the magnitude response make sense from the poe-zero plot?\n",
    "\n",
    "2. Repeat #1 for a Chebyshev I filter with a passband ripple of $1~\\text{dB}$ and plot the magnitude, phase, and frequency response.\n",
    "    1. If the stopband attenuation is to be $30~\\text{dB}$, what is the stopband cutoff frequency?\n",
    "    2. Use <code>freqresp</code> to investigate the details of the magnitude response of the magnitude respose so that the plot is not so compressed.\n",
    "    3. Plot the pole-zero plot, and discuss how the magnitude response makes sense from the pole-zero plot.\n",
    "    \n",
    "3. Repeat #1 for a Chebyshev II filter with a stopband cutoff of $0.3\\pi$ and maximum stopband ripple of $30~\\text{dB}$ \n",
    "    1. If the passband attenuation is to be $1~\\text{dB}$, what is the passband cutoff frequency?\n",
    "    2. Use <code>freqresp</code> to investigate the details of the magnitude response of the magnitude respose so that the plot is not so compressed.\n",
    "    3. Plot the pole-zero plot, and discuss how the magnitude response makes sense from the pole-zero plot.\n",
    "\n",
    "4. Repeat #1 for a Ellipse filter with a passband cutoff of $0.3\\pi$ and passband ripple of $1~\\text{dB}$ and maximum stopband ripple of $30~\\text{dB}$.\n",
    "    1. If the stopband attenuation is to be $30~\\text{dB}$, what is the stopband cutoff frequency?\n",
    "    2. Use <code>freqresp</code> to investigate the details of the magnitude response of the magnitude respose so that the plot is not so compressed.\n",
    "    3. Plot the pole-zero plot, and discuss how the magnitude response makes sense from the pole-zero plot.\n",
    "\n",
    "5. How can the filters be compared if their parameters are not the same?\n",
    "\n",
    "6. Do the impulse responses approximate the impulse response of an ideal lowpass filter?\n",
    "\n",
    "7. Read the audio file into the notebook <code>doorbell.wav</code>.\n",
    "    1. Determine the upper and lower frequencies of the doorbell.\n",
    "    2. Design a filter such that the lower tone is attenuated no more than $3~\\text{dB}$ while the upper tone is attenuated $15~\\text{dB}$.\n",
    "    3. Design all four types of filter and plot the frequency response and resulting spectrum."
   ]
  },
  {
   "cell_type": "markdown",
   "metadata": {},
   "source": []
  }
 ],
 "metadata": {
  "kernelspec": {
   "display_name": "Julia 1.7.3",
   "language": "julia",
   "name": "julia-1.7"
  },
  "language_info": {
   "file_extension": ".jl",
   "mimetype": "application/julia",
   "name": "julia",
   "version": "1.7.3"
  },
  "orig_nbformat": 4
 },
 "nbformat": 4,
 "nbformat_minor": 2
}
